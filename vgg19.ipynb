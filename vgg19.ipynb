{
 "cells": [
  {
   "cell_type": "code",
   "execution_count": 1,
   "metadata": {},
   "outputs": [
    {
     "name": "stderr",
     "output_type": "stream",
     "text": [
      "Using TensorFlow backend.\n"
     ]
    },
    {
     "name": "stdout",
     "output_type": "stream",
     "text": [
      "WARNING:tensorflow:From /home/asus/anaconda3/lib/python3.7/site-packages/tensorflow_core/python/ops/resource_variable_ops.py:1630: calling BaseResourceVariable.__init__ (from tensorflow.python.ops.resource_variable_ops) with constraint is deprecated and will be removed in a future version.\n",
      "Instructions for updating:\n",
      "If using Keras pass *_constraint arguments to layers.\n",
      "WARNING:tensorflow:From /home/asus/.local/lib/python3.7/site-packages/keras/backend/tensorflow_backend.py:4070: The name tf.nn.max_pool is deprecated. Please use tf.nn.max_pool2d instead.\n",
      "\n"
     ]
    }
   ],
   "source": [
    "from keras.applications import VGG19\n",
    "vgg_conv = VGG19(weights='imagenet', include_top=False, input_shape=(224, 224, 3))"
   ]
  },
  {
   "cell_type": "code",
   "execution_count": 2,
   "metadata": {},
   "outputs": [],
   "source": [
    "from keras.preprocessing.image import ImageDataGenerator"
   ]
  },
  {
   "cell_type": "code",
   "execution_count": 3,
   "metadata": {},
   "outputs": [
    {
     "name": "stdout",
     "output_type": "stream",
     "text": [
      "<keras.engine.input_layer.InputLayer object at 0x7fe2c4fce650> False\n",
      "<keras.layers.convolutional.Conv2D object at 0x7fe21d26d550> False\n",
      "<keras.layers.convolutional.Conv2D object at 0x7fe21d26d890> False\n",
      "<keras.layers.pooling.MaxPooling2D object at 0x7fe21d227d10> False\n",
      "<keras.layers.convolutional.Conv2D object at 0x7fe21c9ca3d0> False\n",
      "<keras.layers.convolutional.Conv2D object at 0x7fe21c9da890> False\n",
      "<keras.layers.pooling.MaxPooling2D object at 0x7fe21c9e0b90> False\n",
      "<keras.layers.convolutional.Conv2D object at 0x7fe21c9e5b50> False\n",
      "<keras.layers.convolutional.Conv2D object at 0x7fe21c9f0a10> False\n",
      "<keras.layers.convolutional.Conv2D object at 0x7fe21c979f90> False\n",
      "<keras.layers.convolutional.Conv2D object at 0x7fe21c987350> False\n",
      "<keras.layers.pooling.MaxPooling2D object at 0x7fe21c996b50> False\n",
      "<keras.layers.convolutional.Conv2D object at 0x7fe21c99d750> False\n",
      "<keras.layers.convolutional.Conv2D object at 0x7fe21c9a9690> False\n",
      "<keras.layers.convolutional.Conv2D object at 0x7fe21c9b1e90> False\n",
      "<keras.layers.convolutional.Conv2D object at 0x7fe21c93d650> False\n",
      "<keras.layers.pooling.MaxPooling2D object at 0x7fe21c94a1d0> False\n",
      "<keras.layers.convolutional.Conv2D object at 0x7fe21c957410> False\n",
      "<keras.layers.convolutional.Conv2D object at 0x7fe21c964350> False\n",
      "<keras.layers.convolutional.Conv2D object at 0x7fe21c96acd0> False\n",
      "<keras.layers.convolutional.Conv2D object at 0x7fe21c8f8f10> True\n",
      "<keras.layers.pooling.MaxPooling2D object at 0x7fe21c905210> True\n"
     ]
    }
   ],
   "source": [
    "for layer in vgg_conv.layers[:-2]:\n",
    "    layer.trainable = False\n",
    " \n",
    "for layer in vgg_conv.layers:\n",
    "    print(layer, layer.trainable)"
   ]
  },
  {
   "cell_type": "code",
   "execution_count": 4,
   "metadata": {},
   "outputs": [
    {
     "name": "stdout",
     "output_type": "stream",
     "text": [
      "Model: \"sequential_1\"\n",
      "_________________________________________________________________\n",
      "Layer (type)                 Output Shape              Param #   \n",
      "=================================================================\n",
      "vgg19 (Model)                (None, 7, 7, 512)         20024384  \n",
      "_________________________________________________________________\n",
      "flatten_1 (Flatten)          (None, 25088)             0         \n",
      "_________________________________________________________________\n",
      "dense_1 (Dense)              (None, 1024)              25691136  \n",
      "_________________________________________________________________\n",
      "dense_2 (Dense)              (None, 512)               524800    \n",
      "_________________________________________________________________\n",
      "dropout_1 (Dropout)          (None, 512)               0         \n",
      "_________________________________________________________________\n",
      "dense_3 (Dense)              (None, 33)                16929     \n",
      "=================================================================\n",
      "Total params: 46,257,249\n",
      "Trainable params: 28,592,673\n",
      "Non-trainable params: 17,664,576\n",
      "_________________________________________________________________\n"
     ]
    }
   ],
   "source": [
    "from keras import models\n",
    "from keras import layers\n",
    "from keras import optimizers\n",
    " \n",
    "model = models.Sequential()\n",
    " \n",
    "model.add(vgg_conv)\n",
    " \n",
    "model.add(layers.Flatten())\n",
    "model.add(layers.Dense(1024, activation='relu'))\n",
    "model.add(layers.Dense(512, activation='relu'))\n",
    "model.add(layers.Dropout(0.5))\n",
    "model.add(layers.Dense(33, activation='softmax'))\n",
    " \n",
    "model.summary()"
   ]
  },
  {
   "cell_type": "code",
   "execution_count": 5,
   "metadata": {},
   "outputs": [],
   "source": [
    "train_dir = '/home/asus/Desktop/Dataset_splits/train'\n",
    "validation_dir = '/home/asus/Desktop/Dataset_splits/validation'"
   ]
  },
  {
   "cell_type": "code",
   "execution_count": 6,
   "metadata": {},
   "outputs": [],
   "source": [
    "import numpy as np\n",
    "from random import shuffle"
   ]
  },
  {
   "cell_type": "code",
   "execution_count": 7,
   "metadata": {},
   "outputs": [
    {
     "name": "stdout",
     "output_type": "stream",
     "text": [
      "Found 22110 images belonging to 33 classes.\n",
      "Found 4132 images belonging to 33 classes.\n"
     ]
    }
   ],
   "source": [
    "train_datagen = ImageDataGenerator(\n",
    "      rescale=1./255,\n",
    "    rotation_range=20,\n",
    "    width_shift_range=0.2,\n",
    "  height_shift_range=0.2,\n",
    "    horizontal_flip=True,\n",
    "   fill_mode='nearest'\n",
    ")\n",
    " \n",
    "validation_datagen = ImageDataGenerator(rescale=1./255)\n",
    " \n",
    "train_batchsize = 64\n",
    "val_batchsize = 20\n",
    " \n",
    "train_generator = train_datagen.flow_from_directory(\n",
    "        train_dir,\n",
    "        target_size=(224, 224),\n",
    "        batch_size=train_batchsize,\n",
    "        class_mode='categorical')\n",
    " \n",
    "validation_generator = validation_datagen.flow_from_directory(\n",
    "        validation_dir,\n",
    "        target_size=(224, 224),\n",
    "        batch_size=val_batchsize,\n",
    "        class_mode='categorical',\n",
    "        shuffle=True)"
   ]
  },
  {
   "cell_type": "code",
   "execution_count": 8,
   "metadata": {},
   "outputs": [
    {
     "name": "stdout",
     "output_type": "stream",
     "text": [
      "{'Corn_(maize)___Cercospora_leaf_spot Gray_leaf_spot': 0, 'Corn_(maize)___Common_rust_': 1, 'Corn_(maize)___healthy': 2, 'GD_Alternia': 3, 'GD_Deficiency': 4, 'GD_Healthy': 5, 'GD_Leaf_Blight': 6, 'GD_Rust': 7, 'GD_Spidermites': 8, 'GD_Toxicity': 9, 'GD_Webbloch': 10, 'Paddy_Bacterial_leaf_blight': 11, 'Paddy_Brown_spot': 12, 'Pepper__bell___Bacterial_spot': 13, 'Pepper__bell___healthy': 14, 'Potato___Early_blight': 15, 'Potato___Late_blight': 16, 'Potato___healthy': 17, 'Tomato_Bacterial_spot': 18, 'Tomato_Early_blight': 19, 'Tomato_Late_blight': 20, 'Tomato_Leaf_Mold': 21, 'Tomato_Septoria_leaf_spot': 22, 'Tomato_Spider_mites_Two_spotted_spider_mite': 23, 'Tomato__Target_Spot': 24, 'Tomato__Tomato_YellowLeaf__Curl_Virus': 25, 'Tomato__Tomato_mosaic_virus': 26, 'Tomato_healthy': 27, 'pomo_Alternaria_Alternata': 28, 'pomo_Anthracnose': 29, 'pomo_Bacterial_Blight': 30, 'pomo_Cercospora_LeafSpot': 31, 'pomo_Healthy_Leaves': 32}\n"
     ]
    }
   ],
   "source": [
    "print(train_generator.class_indices)"
   ]
  },
  {
   "cell_type": "code",
   "execution_count": 9,
   "metadata": {
    "scrolled": false
   },
   "outputs": [
    {
     "name": "stdout",
     "output_type": "stream",
     "text": [
      "WARNING:tensorflow:From /home/asus/anaconda3/lib/python3.7/site-packages/tensorflow_core/python/ops/math_grad.py:1424: where (from tensorflow.python.ops.array_ops) is deprecated and will be removed in a future version.\n",
      "Instructions for updating:\n",
      "Use tf.where in 2.0, which has the same broadcast rule as np.where\n",
      "WARNING:tensorflow:From /home/asus/.local/lib/python3.7/site-packages/keras/backend/tensorflow_backend.py:422: The name tf.global_variables is deprecated. Please use tf.compat.v1.global_variables instead.\n",
      "\n",
      "Epoch 1/10\n",
      "346/345 [==============================] - 4751s 14s/step - loss: 0.0640 - acc: 0.9790 - val_loss: 0.0485 - val_acc: 0.9867\n",
      "Epoch 2/10\n",
      "346/345 [==============================] - 3922s 11s/step - loss: 0.0385 - acc: 0.9860 - val_loss: 0.0274 - val_acc: 0.9896\n",
      "Epoch 3/10\n",
      "346/345 [==============================] - 4132s 12s/step - loss: 0.0313 - acc: 0.9884 - val_loss: 0.0323 - val_acc: 0.9904\n",
      "Epoch 4/10\n",
      "346/345 [==============================] - 4612s 13s/step - loss: 0.0271 - acc: 0.9897 - val_loss: 0.0183 - val_acc: 0.9918\n",
      "Epoch 5/10\n",
      "346/345 [==============================] - 3677s 11s/step - loss: 0.0239 - acc: 0.9907 - val_loss: 0.0072 - val_acc: 0.9918\n",
      "Epoch 6/10\n",
      "346/345 [==============================] - 4374s 13s/step - loss: 0.0214 - acc: 0.9919 - val_loss: 0.0173 - val_acc: 0.9928\n",
      "Epoch 7/10\n",
      "346/345 [==============================] - 4331s 13s/step - loss: 0.0200 - acc: 0.9924 - val_loss: 0.0312 - val_acc: 0.9927\n",
      "Epoch 8/10\n",
      "346/345 [==============================] - 4379s 13s/step - loss: 0.0193 - acc: 0.9927 - val_loss: 0.0020 - val_acc: 0.9922\n",
      "Epoch 9/10\n",
      "346/345 [==============================] - 3870s 11s/step - loss: 0.0176 - acc: 0.9933 - val_loss: 0.0037 - val_acc: 0.9935\n",
      "Epoch 10/10\n",
      "346/345 [==============================] - 4711s 14s/step - loss: 0.0172 - acc: 0.9934 - val_loss: 0.0119 - val_acc: 0.9923\n"
     ]
    }
   ],
   "source": [
    "model.compile(loss='binary_crossentropy',\n",
    "              optimizer=optimizers.RMSprop(lr=1e-4),\n",
    "              metrics=['acc'])\n",
    "\n",
    "history = model.fit_generator(\n",
    "      train_generator,\n",
    "      steps_per_epoch=train_generator.samples/train_generator.batch_size ,\n",
    "      epochs=10,\n",
    "      validation_data=validation_generator,\n",
    "      validation_steps=validation_generator.samples/validation_generator.batch_size,\n",
    "      verbose=1)"
   ]
  },
  {
   "cell_type": "code",
   "execution_count": 10,
   "metadata": {},
   "outputs": [],
   "source": [
    "model.save('anuvgg19.h5')"
   ]
  }
 ],
 "metadata": {
  "kernelspec": {
   "display_name": "Python 3",
   "language": "python",
   "name": "python3"
  },
  "language_info": {
   "codemirror_mode": {
    "name": "ipython",
    "version": 3
   },
   "file_extension": ".py",
   "mimetype": "text/x-python",
   "name": "python",
   "nbconvert_exporter": "python",
   "pygments_lexer": "ipython3",
   "version": "3.7.4"
  }
 },
 "nbformat": 4,
 "nbformat_minor": 2
}
